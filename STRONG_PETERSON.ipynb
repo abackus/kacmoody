{
 "cells": [
  {
   "cell_type": "code",
   "execution_count": 4,
   "metadata": {},
   "outputs": [],
   "source": [
    "from sage.data_structures.mutable_poset import MutablePoset as MP"
   ]
  },
  {
   "cell_type": "code",
   "execution_count": 28,
   "metadata": {},
   "outputs": [],
   "source": [
    "class root():\n",
    "    \"\"\"\n",
    "    The class for roots of a Kac-Moody algebra. \n",
    "    \"\"\"\n",
    "    def __init__(self,list_form,multiplicity,c):\n",
    "        self.multiplicity = multiplicity\n",
    "        self.c            = c\n",
    "        self.list_form = list_form\n",
    "    def __str__(self):\n",
    "        return \"this root : \" + str(self.list_form)\n",
    "    def __repr__(self):\n",
    "        return \"this root : \" + str(self.list_form)\n",
    "    def __le__(left,right):\n",
    "        return all(l <= r for l, r in zip(left.list_form, right.list_form))\n",
    "    def height(self):\n",
    "        return sum(self.list_form)"
   ]
  },
  {
   "cell_type": "code",
   "execution_count": 82,
   "metadata": {},
   "outputs": [],
   "source": [
    "class T(tuple):\n",
    "    \"\"\"\n",
    "    tuples; but enriched with some <= structure\n",
    "    \"\"\"\n",
    "    def __le__(left, right):\n",
    "        return all(l <= r for l, r in zip(left, right))\n",
    "    def height(self):\n",
    "        return sum(list(self))"
   ]
  },
  {
   "cell_type": "code",
   "execution_count": 83,
   "metadata": {},
   "outputs": [],
   "source": [
    "\"\"\"\n",
    "Auxiliary functions for the Cartan Matrix\n",
    "\"\"\"\n",
    "\n",
    "def B(mat,a,b):\n",
    "    \"\"\"\n",
    "    Returning the bilinear product induced by the Cartan Matrix\n",
    "    \"\"\"\n",
    "    return vector(a)*mat*vector(b)\n",
    "\n",
    "def weyl(mat,r,s):\n",
    "    \"\"\"\n",
    "    Weyl action on the root r by the simple root s\n",
    "    \"\"\"\n",
    "    rv = vector(r); sv = vector(s)\n",
    "    return T(tuple(rv - B(mat,r,s)*sv))\n",
    "\n",
    "\n",
    "def exceptional(n):\n",
    "    # Returns the exceptional Cartan matrix E_n, for n >= 5\n",
    "    if n < 5:\n",
    "        raise ValueError(\"Matrix E_n only makes sense for n >= 5\")\n",
    "    M = []\n",
    "    for i in range(n):\n",
    "        row = []\n",
    "        for j in range(n):\n",
    "            if i == j:\n",
    "                row.append(2)\n",
    "            elif (i == j + 1) or (j == i + 1):\n",
    "                row.append(-1)\n",
    "            elif ((i == n - 1) and (j == 2)) or ((j == n - 1) and (i == 2)):\n",
    "                row.append(-1)\n",
    "            else:\n",
    "                row.append(0)\n",
    "        M.append(row)\n",
    "    M[n-1][n-2] = 0\n",
    "    M[n-2][n-1] = 0\n",
    "    return CartanMatrix(M)"
   ]
  },
  {
   "cell_type": "code",
   "execution_count": 99,
   "metadata": {},
   "outputs": [],
   "source": [
    "def real_roots(cartan,height):\n",
    "    \"\"\"\n",
    "    Returns the poset of real roots for a given cartan matrix, up to the height specified.\n",
    "    \"\"\"\n",
    "    rroots  = MP()\n",
    "    dim     = cartan.nrows()\n",
    "    simples = [T(tuple([int(a == b) for a in range(dim)])) for b in range(dim)]\n",
    "    zero    = T(tuple([0]*dim))\n",
    "    [rroots.add(s) for s in simples]\n",
    "    \n",
    "    to_pingpong = [x for x in simples]\n",
    "    while len(to_pingpong) != 0:\n",
    "        print(len(rroots),len(to_pingpong))\n",
    "        el = to_pingpong.pop()\n",
    "        pngd = [weyl(cartan,el,s) for s in simples] \n",
    "        qngd = [p for p in pngd if p.height() <= height and not rroots.contains(p) and zero < p]\n",
    "        to_pingpong += qngd\n",
    "        print('a')\n",
    "        #[rroots.add(p) for p in qngd]\n",
    "        for p in qngd:\n",
    "            #print(p)\n",
    "            rroots.add(p)\n",
    "        print('b')\n",
    "        \n",
    "    return rroots"
   ]
  },
  {
   "cell_type": "code",
   "execution_count": null,
   "metadata": {},
   "outputs": [],
   "source": [
    "real_roots(exceptional(10),30)"
   ]
  }
 ],
 "metadata": {
  "kernelspec": {
   "display_name": "SageMath 8.6",
   "language": "",
   "name": "sagemath"
  },
  "language_info": {
   "codemirror_mode": {
    "name": "ipython",
    "version": 2
   },
   "file_extension": ".py",
   "mimetype": "text/x-python",
   "name": "python",
   "nbconvert_exporter": "python",
   "pygments_lexer": "ipython2",
   "version": "2.7.15"
  }
 },
 "nbformat": 4,
 "nbformat_minor": 2
}
